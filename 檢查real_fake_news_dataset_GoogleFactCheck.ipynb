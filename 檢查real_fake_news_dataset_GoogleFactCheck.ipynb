{
 "cells": [
  {
   "cell_type": "markdown",
   "metadata": {},
   "source": [
    "# import tool"
   ]
  },
  {
   "cell_type": "code",
   "execution_count": 1,
   "metadata": {},
   "outputs": [],
   "source": [
    "import os\n",
    "import json"
   ]
  },
  {
   "cell_type": "code",
   "execution_count": 2,
   "metadata": {},
   "outputs": [
    {
     "data": {
      "text/plain": [
       "['動物傳染病.json',\n",
       " '美豬.json',\n",
       " '罷免.json',\n",
       " '.~lock.美豬.json#',\n",
       " '颱風.json',\n",
       " '病毒.json',\n",
       " '傳染病.json',\n",
       " '飛機.json',\n",
       " '救災.json',\n",
       " '農產品價格.json',\n",
       " '豬肉.json',\n",
       " '農產品.json']"
      ]
     },
     "execution_count": 2,
     "metadata": {},
     "output_type": "execute_result"
    }
   ],
   "source": [
    "os.listdir(\"./real_fake_news_dataset/GoogleFactCheck\")"
   ]
  },
  {
   "cell_type": "code",
   "execution_count": 4,
   "metadata": {},
   "outputs": [],
   "source": [
    "with open(\"./real_fake_news_dataset/GoogleFactCheck/%s\" % '動物傳染病.json') as json_file:\n",
    "    data = json.load(json_file)"
   ]
  },
  {
   "cell_type": "code",
   "execution_count": 17,
   "metadata": {},
   "outputs": [
    {
     "data": {
      "text/plain": [
       "['download', 'status', 'params', 'count', 'result']"
      ]
     },
     "execution_count": 17,
     "metadata": {},
     "output_type": "execute_result"
    }
   ],
   "source": [
    "list(data.keys())"
   ]
  },
  {
   "cell_type": "code",
   "execution_count": 20,
   "metadata": {},
   "outputs": [
    {
     "data": {
      "text/plain": [
       "[{'text': '這張流傳照片，事實上這個根本不是什麼來自越南深山的動物，或者被成為「羊狐」的說法，完全是假的！這其實是藝術家 Calyn McLeod 的作品。',\n",
       "  'claimant': 'Charles',\n",
       "  'claimDate': '2019-01-17T00:00:00Z',\n",
       "  'claimReview': [{'publisher': {'name': 'MyGoPen', 'site': 'mygopen.com'},\n",
       "    'url': 'https://www.mygopen.com/2019/01/blog-post_17.html',\n",
       "    'title': '【假圖片】出現在越南深山？登山者拍攝到的動物？藝術家作品啦',\n",
       "    'reviewDate': '2019-01-17T00:00:00Z',\n",
       "    'textualRating': '不實',\n",
       "    'languageCode': 'zh'}]},\n",
       " {'text': '網傳「癌症打一針就好了！動物實驗已100%成功」',\n",
       "  'claimReview': [{'publisher': {'name': '台灣事實查核中心',\n",
       "     'site': 'tfc-taiwan.org.tw'},\n",
       "    'url': 'https://tfc-taiwan.org.tw/articles/605',\n",
       "    'title': '【部分錯誤】網傳「癌症打一針就好了！動物實驗已100%成功」？',\n",
       "    'reviewDate': '2019-06-24T00:00:00Z',\n",
       "    'textualRating': '部分錯誤',\n",
       "    'languageCode': 'zh'}]},\n",
       " {'text': '網傳「亞馬遜森林大火恐致物種滅絕危機」動物照片？',\n",
       "  'claimReview': [{'publisher': {'name': '台灣事實查核中心',\n",
       "     'site': 'tfc-taiwan.org.tw'},\n",
       "    'url': 'https://tfc-taiwan.org.tw/articles/792',\n",
       "    'title': '【錯誤】網傳「亞馬遜森林大火恐致物種滅絕危機」動物照片？',\n",
       "    'reviewDate': '2019-09-03T00:00:00Z',\n",
       "    'textualRating': '錯誤',\n",
       "    'languageCode': 'zh'}]},\n",
       " {'text': '網傳「澳大利亞巨大的野火導致動物死亡」動物照片？',\n",
       "  'claimReview': [{'publisher': {'name': '台灣事實查核中心',\n",
       "     'site': 'tfc-taiwan.org.tw'},\n",
       "    'url': 'https://tfc-taiwan.org.tw/articles/2017',\n",
       "    'title': '【部分錯誤】網傳「澳大利亞巨大的野火導致動物死亡」動物照片？',\n",
       "    'reviewDate': '2020-01-16T00:00:00Z',\n",
       "    'textualRating': '部分錯誤',\n",
       "    'languageCode': 'zh'}]},\n",
       " {'text': '網傳：世界衛生組織說：新冠肺炎疫情沒有一位素食者會受影響，因為新冠病毒需要動物性脂肪才能夠生存，素食者身上是找不到動物性脂肪的，如果人類繼續食肉類，會有一定的風險。',\n",
       "  'claimReview': [{'publisher': {'name': 'MyGoPen', 'site': 'mygopen.com'},\n",
       "    'url': 'https://www.mygopen.com/2020/05/no-vegetarian-has-been-infected-with-covid-19.html',\n",
       "    'title': '【謠言】新冠肺炎疫情沒有一位素食者會受影響？WHO沒有說也缺乏根據',\n",
       "    'reviewDate': '2020-05-26T00:00:00Z',\n",
       "    'textualRating': '不實',\n",
       "    'languageCode': 'zh'}]},\n",
       " {'text': '網傳影片：加拿大沙克奇萬省 6/16冰雹下得和網球一樣大，殺傷力太強了，許多野生動物都被砸死了',\n",
       "  'claimReview': [{'publisher': {'name': 'MyGoPen', 'site': 'mygopen.com'},\n",
       "    'url': 'https://www.mygopen.com/2020/06/Hail-stone-storm.html',\n",
       "    'title': '【謠言】加拿大6/16冰雹下得和網球一樣大影片？多國舊災情剪接',\n",
       "    'reviewDate': '2020-06-30T00:00:00Z',\n",
       "    'textualRating': '不實',\n",
       "    'languageCode': 'zh'}]},\n",
       " {'text': '網傳影片宣稱「加拿大沙克奇萬省6/16冰雹下得和網球一樣大，殺傷力太強了，許多野生動物都被砸死了」？',\n",
       "  'claimReview': [{'publisher': {'name': '台灣事實查核中心',\n",
       "     'site': 'tfc-taiwan.org.tw'},\n",
       "    'url': 'https://tfc-taiwan.org.tw/articles/4077',\n",
       "    'title': '【錯誤】網傳影片宣稱「加拿大沙克奇萬省6/16冰雹下得和網球一樣大，殺傷力太強了，許多野生動物都被砸死了」？',\n",
       "    'reviewDate': '2020-06-30T00:00:00Z',\n",
       "    'textualRating': '錯誤',\n",
       "    'languageCode': 'zh'}]}]"
      ]
     },
     "execution_count": 20,
     "metadata": {},
     "output_type": "execute_result"
    }
   ],
   "source": [
    "data[\"result\"]"
   ]
  },
  {
   "cell_type": "code",
   "execution_count": null,
   "metadata": {},
   "outputs": [],
   "source": []
  }
 ],
 "metadata": {
  "kernelspec": {
   "display_name": "Python 3",
   "language": "python",
   "name": "python3"
  },
  "language_info": {
   "codemirror_mode": {
    "name": "ipython",
    "version": 3
   },
   "file_extension": ".py",
   "mimetype": "text/x-python",
   "name": "python",
   "nbconvert_exporter": "python",
   "pygments_lexer": "ipython3",
   "version": "3.7.7"
  }
 },
 "nbformat": 4,
 "nbformat_minor": 4
}
